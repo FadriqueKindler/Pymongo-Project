{
 "cells": [
  {
   "cell_type": "code",
   "execution_count": null,
   "metadata": {},
   "outputs": [],
   "source": [
    "## IMPORT MODULES ##\n",
    "\n",
    "from pymongo import MongoClient\n",
    "import pandas as pd\n",
    "import numpy as np\n",
    "import os\n",
    "import requests\n",
    "import dotenv\n",
    "from Functions import *\n",
    "\n",
    "dotenv.load_dotenv()\n"
   ]
  },
  {
   "cell_type": "code",
   "execution_count": null,
   "metadata": {},
   "outputs": [],
   "source": [
    "client = MongoClient(\"mongodb://localhost:27017/\")\n",
    "db = client.companies"
   ]
  },
  {
   "cell_type": "code",
   "execution_count": null,
   "metadata": {},
   "outputs": [],
   "source": [
    "filtered_company_ds = db.Filtered_Companies\n",
    "query = filtered_company_ds.find()\n",
    "final_df = pd.DataFrame(query)\n"
   ]
  },
  {
   "cell_type": "code",
   "execution_count": null,
   "metadata": {},
   "outputs": [],
   "source": [
    "## ORDER BY NAME TO GET ALL OFFICES TOGETHER\n",
    "\n",
    "final_df = final_df.sort_values(by ='name')\n",
    "\n",
    "final_df.head()\n"
   ]
  },
  {
   "cell_type": "code",
   "execution_count": null,
   "metadata": {},
   "outputs": [],
   "source": [
    "## WE FIND HOW MANY OFFICES ARE IN EACH CITY\n",
    "\n",
    "final_df.groupby(\"city\").size()"
   ]
  },
  {
   "cell_type": "code",
   "execution_count": null,
   "metadata": {},
   "outputs": [],
   "source": [
    "## WE GET THE TWO CITIES WITH MORE OFFICES \n",
    "\n",
    "chosen_city_list = [\"San Francisco\", \"New York\"]\n",
    "final_cities_df = final_df[final_df[\"city\"].isin(chosen_city_list)]\n",
    "final_cities_df = final_cities_df.drop(columns = (\"_id\",\"C\"))\n",
    "final_cities_df"
   ]
  },
  {
   "cell_type": "code",
   "execution_count": null,
   "metadata": {},
   "outputs": [],
   "source": []
  },
  {
   "cell_type": "code",
   "execution_count": null,
   "metadata": {},
   "outputs": [],
   "source": [
    "## GOOGLE PLACES API\n",
    "\n",
    "google_token = os.getenv(\"GOOGLEAPI_KEY\")\n"
   ]
  },
  {
   "cell_type": "code",
   "execution_count": null,
   "metadata": {},
   "outputs": [],
   "source": [
    "airports_query = []\n",
    "for city in chosen_city_list:\n",
    "    query = \"airports\"+ \"+in+\"+ city.replace(\" \",\"\")\n",
    "    airports_query.append(query)\n",
    "    "
   ]
  },
  {
   "cell_type": "code",
   "execution_count": null,
   "metadata": {},
   "outputs": [],
   "source": [
    "airports_info = locationdata(chosen_city_list, airports_query)\n",
    "\n",
    "airports_info[\"geopoint\"] = airports_info.apply(geopoint, axis = 1)\n",
    "\n",
    "airports_info[\"category_code\"] = \"Airports\"\n",
    "airports_info = airports_info[[\"name\",\"category_code\",\"city\",\"latitude\",\"longitude\",\"geopoint\"]]"
   ]
  },
  {
   "cell_type": "code",
   "execution_count": null,
   "metadata": {},
   "outputs": [],
   "source": [
    "starbucks_query = []\n",
    "for city in chosen_city_list:\n",
    "    query = \"starbucks\"+ \"+in+\"+ city.replace(\" \",\"\")\n",
    "    starbucks_query.append(query)"
   ]
  },
  {
   "cell_type": "code",
   "execution_count": null,
   "metadata": {},
   "outputs": [],
   "source": [
    "starbucks_info = locationdata(chosen_city_list, starbucks_query)\n",
    "\n",
    "starbucks_info[\"geopoint\"] = starbucks_info.apply(geopoint, axis = 1)\n",
    "\n",
    "starbucks_info[\"category_code\"] = \"Starbucks\"\n",
    "starbucks_info = starbucks_info[[\"name\",\"category_code\",\"city\",\"latitude\",\"longitude\",\"geopoint\"]]\n"
   ]
  },
  {
   "cell_type": "code",
   "execution_count": null,
   "metadata": {},
   "outputs": [],
   "source": [
    "pubs_query = []\n",
    "for city in chosen_city_list:\n",
    "    query = \"pubs\"+ \"+in+\"+ city.replace(\" \",\"\")\n",
    "    pubs_query.append(query)\n",
    "    "
   ]
  },
  {
   "cell_type": "code",
   "execution_count": null,
   "metadata": {},
   "outputs": [],
   "source": [
    "pubs_info = locationdata(chosen_city_list, pubs_query)\n",
    "\n",
    "pubs_info[\"geopoint\"] = pubs_info.apply(geopoint, axis = 1)\n",
    "\n",
    "pubs_info[\"category_code\"] = \"Pubs\"\n",
    "pubs_info = pubs_info[[\"name\",\"category_code\",\"city\",\"latitude\",\"longitude\",\"geopoint\"]]"
   ]
  },
  {
   "cell_type": "code",
   "execution_count": null,
   "metadata": {},
   "outputs": [],
   "source": [
    "nightclubs_query = []\n",
    "for city in chosen_city_list:\n",
    "    query = \"nightclub\"+ \"+in+\"+ city.replace(\" \",\"\")\n",
    "    nightclubs_query.append(query)\n",
    "    "
   ]
  },
  {
   "cell_type": "code",
   "execution_count": null,
   "metadata": {},
   "outputs": [],
   "source": [
    "nightclubs_info = locationdata(chosen_city_list, nightclubs_query)\n",
    "\n",
    "nightclubs_info[\"geopoint\"] = nightclubs_info.apply(geopoint, axis = 1)\n",
    "\n",
    "nightclubs_info[\"category_code\"] = \"Nightclubs\"\n",
    "nightclubs_info = nightclubs_info[[\"name\",\"category_code\",\"city\",\"latitude\",\"longitude\",\"geopoint\"]]"
   ]
  }
 ],
 "metadata": {
  "kernelspec": {
   "display_name": "Python 3",
   "language": "python",
   "name": "python3"
  },
  "language_info": {
   "codemirror_mode": {
    "name": "ipython",
    "version": 3
   },
   "file_extension": ".py",
   "mimetype": "text/x-python",
   "name": "python",
   "nbconvert_exporter": "python",
   "pygments_lexer": "ipython3",
   "version": "3.7.1"
  }
 },
 "nbformat": 4,
 "nbformat_minor": 2
}
