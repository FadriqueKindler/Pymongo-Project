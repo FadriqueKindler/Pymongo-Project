{
 "cells": [
  {
   "cell_type": "code",
   "execution_count": null,
   "metadata": {},
   "outputs": [],
   "source": [
    "## IMPORT MODULES ##\n",
    "\n",
    "from pymongo import MongoClient\n",
    "import pandas as pd\n",
    "import numpy as np\n",
    "import re\n",
    "from pandas.io.json import json_normalize\n",
    "from Functions import *"
   ]
  },
  {
   "cell_type": "code",
   "execution_count": null,
   "metadata": {},
   "outputs": [],
   "source": [
    "## MONGO CONECTION ##\n",
    "\n",
    "client = MongoClient(\"mongodb://localhost:27017/\")\n",
    "db = client.companies "
   ]
  },
  {
   "cell_type": "code",
   "execution_count": null,
   "metadata": {},
   "outputs": [],
   "source": [
    "## MONGO QUERY ##\n",
    "\n",
    "filters = {\"$and\":[\n",
    "{\"offices\": {\"$exists\": True}},{\"offices\": {\"$ne\": None}}, \n",
    "{\"category_code\": {\"$exists\": True}},{\"category_code\": {\"$ne\": None}},\n",
    "{\"founded_year\": {\"$exists\": True}}, {\"founded_year\": {\"$gt\": 2009}},\n",
    "{\"total_money_raised\": {\"$exists\": True}},{\"total_money_raised\":{\"$ne\":None}},\n",
    "{\"total_money_raised\": {\"$not\":{\"$size\":0}}}, \n",
    "{\"$or\": [\n",
    "    {\"total_money_raised\": {\"$gte\": 1_000_000}},\n",
    "    {\"category_code\": \"design\" } ,\n",
    "    {\"category_code\": \"web\" } , \n",
    "    {\"category_code\": \"software\" } , \n",
    "    {\"category_code\": \"games_video\" } , \n",
    "    {\"category_code\": \"mobile\" } , \n",
    "    {\"category_code\": \"enterprise\" } ,   \n",
    "    {\"category_code\": \"analytics\" } ,\n",
    "    {'category_code': \"search\"},\n",
    "    {'category_code': \"network_hosting\"} ,   \n",
    "    {\"category_code\": \"photo_video\"}]}]}\n",
    "\n",
    "projection = {\"_id\": 0, \"crunchbase_url\": 0, \"products\": 0, \"acquisition\": 0, \"acquisitions\": 0, \"video_embeds\": 0, \n",
    "\"screenshots\": 0, \"external_links\": 0, \"partners\": 0, \"image\": 0, \"funding_rounds\": 0, \"updated_at\": 0, \n",
    "\"deadpooled_year\":0, \"deadpooled_month\": 0, \"deadpooled_day\":0, \"deadpooled_url\": 0, \"number_of_employees\": 0,\n",
    "\"providerships\":0, \"blog_url\": 0, \"blog_feed_url\": 0, \"tag_list\":0, \"alias_list\":0, \"relationships\":0,\n",
    "\"competitions\":0,\"milestones\":0, \"founded_month\":0, \"founded_day\":0, \"twitter_username\":0, \"homepage_url\":0, \n",
    " \"overview\":0,\"phone_number\":0,\"investments\":0,\"permalink\":0,\"email_address\":0, \"description\":0,\"created_at\":0}\n"
   ]
  },
  {
   "cell_type": "code",
   "execution_count": null,
   "metadata": {},
   "outputs": [],
   "source": [
    "## WE CREATE THE PANDAS DF ##\n",
    "\n",
    "companies = db.companies.find(filters,projection)\n",
    "data_companies = pd.DataFrame(companies)"
   ]
  },
  {
   "cell_type": "code",
   "execution_count": null,
   "metadata": {},
   "outputs": [],
   "source": [
    "## WE UNPACK EVERY COMPANY´S OFFICES ##\n",
    "\n",
    "\n",
    "unpack = [ { '$unwind' : '$offices' },{ '$project': {\"_id\":0} }, {\"$out\":\"companies\"}]\n",
    "companies.collection.aggregate(unpack)\n",
    "\n",
    "offices_df = json_normalize(data_companies[\"offices\"])\n"
   ]
  },
  {
   "cell_type": "code",
   "execution_count": null,
   "metadata": {},
   "outputs": [],
   "source": [
    "## CONCAT BOTH DF INTO MAIN COMPANY DF ##\n",
    "\n",
    "full_df = pd.concat([data_companies,offices_df],axis=1)\n",
    "#full_df.head()\n"
   ]
  },
  {
   "cell_type": "code",
   "execution_count": null,
   "metadata": {},
   "outputs": [],
   "source": [
    "## CREATE GEOPOINT COLUMN FOR MONGODB ##\n",
    "\n",
    "full_df[\"geopoint\"] = full_df.apply(lambda x: geopoint(x[\"longitude\"],x[\"latitude\"]),axis = 1)"
   ]
  },
  {
   "cell_type": "code",
   "execution_count": null,
   "metadata": {},
   "outputs": [],
   "source": [
    "## WE FILTER THE DF BY DELETING NULL AND DUPLICATE ROWS ##\n",
    "\n",
    "full_clean_df = full_clean_df.dropna(subset=['latitude'])\n",
    "full_clean_df.drop_duplicates\n",
    "display(full_clean_df.head())\n"
   ]
  },
  {
   "cell_type": "code",
   "execution_count": null,
   "metadata": {},
   "outputs": [],
   "source": [
    "## FILL MISSING CITY VALUE ##\n",
    "\n",
    "full_clean_df.loc[0,\"city\"] = \"Dearing\"\n",
    "full_clean_df.head()\n"
   ]
  },
  {
   "cell_type": "code",
   "execution_count": null,
   "metadata": {},
   "outputs": [],
   "source": [
    "## SAVE AS JSON ##\n",
    "\n",
    "full_clean_df.to_json(\"Filtered_Companies.json\", orient = \"records\", lines = True)"
   ]
  },
  {
   "cell_type": "code",
   "execution_count": null,
   "metadata": {},
   "outputs": [],
   "source": []
  },
  {
   "cell_type": "code",
   "execution_count": null,
   "metadata": {},
   "outputs": [],
   "source": []
  },
  {
   "cell_type": "code",
   "execution_count": null,
   "metadata": {},
   "outputs": [],
   "source": []
  }
 ],
 "metadata": {
  "kernelspec": {
   "display_name": "Python 3",
   "language": "python",
   "name": "python3"
  },
  "language_info": {
   "codemirror_mode": {
    "name": "ipython",
    "version": 3
   },
   "file_extension": ".py",
   "mimetype": "text/x-python",
   "name": "python",
   "nbconvert_exporter": "python",
   "pygments_lexer": "ipython3",
   "version": "3.7.1"
  }
 },
 "nbformat": 4,
 "nbformat_minor": 2
}
